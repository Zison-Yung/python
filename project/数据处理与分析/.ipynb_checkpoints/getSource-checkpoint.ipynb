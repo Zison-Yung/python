{
 "cells": [
  {
   "cell_type": "markdown",
   "metadata": {},
   "source": [
    "# 增加source列"
   ]
  },
  {
   "cell_type": "code",
   "execution_count": 29,
   "metadata": {},
   "outputs": [],
   "source": [
    "import numpy as np\n",
    "import pandas as pd\n",
    "import re\n",
    "df = pd.read_csv(r'F:\\CollegeTime_PKU\\python\\p\\project\\爬虫及数据\\rent_合并.csv', \n",
    "                 header= 0,names =['title','location','price','url'])"
   ]
  },
  {
   "cell_type": "code",
   "execution_count": 30,
   "metadata": {},
   "outputs": [
    {
     "data": {
      "text/html": [
       "<div>\n",
       "<style scoped>\n",
       "    .dataframe tbody tr th:only-of-type {\n",
       "        vertical-align: middle;\n",
       "    }\n",
       "\n",
       "    .dataframe tbody tr th {\n",
       "        vertical-align: top;\n",
       "    }\n",
       "\n",
       "    .dataframe thead th {\n",
       "        text-align: right;\n",
       "    }\n",
       "</style>\n",
       "<table border=\"1\" class=\"dataframe\">\n",
       "  <thead>\n",
       "    <tr style=\"text-align: right;\">\n",
       "      <th></th>\n",
       "      <th>title</th>\n",
       "      <th>location</th>\n",
       "      <th>price</th>\n",
       "      <th>url</th>\n",
       "    </tr>\n",
       "  </thead>\n",
       "  <tbody>\n",
       "    <tr>\n",
       "      <th>2996</th>\n",
       "      <td>天通苑 天通苑东二区 5室 次卧朝南</td>\n",
       "      <td>天通苑东二区</td>\n",
       "      <td>2090</td>\n",
       "      <td>http://bj.58.com/pinpaigongyu/26807340111802x....</td>\n",
       "    </tr>\n",
       "    <tr>\n",
       "      <th>2997</th>\n",
       "      <td>花乡 德鑫家园 3室 主卧朝南</td>\n",
       "      <td>德鑫家园</td>\n",
       "      <td>2150</td>\n",
       "      <td>http://bj.58.com/pinpaigongyu/26652449700403x....</td>\n",
       "    </tr>\n",
       "    <tr>\n",
       "      <th>2998</th>\n",
       "      <td>望京 望京新城 4室 主卧朝南</td>\n",
       "      <td>望京新城</td>\n",
       "      <td>3190</td>\n",
       "      <td>http://bj.58.com/pinpaigongyu/26629210922300x....</td>\n",
       "    </tr>\n",
       "  </tbody>\n",
       "</table>\n",
       "</div>"
      ],
      "text/plain": [
       "                   title location  price  \\\n",
       "2996  天通苑 天通苑东二区 5室 次卧朝南   天通苑东二区   2090   \n",
       "2997     花乡 德鑫家园 3室 主卧朝南     德鑫家园   2150   \n",
       "2998     望京 望京新城 4室 主卧朝南     望京新城   3190   \n",
       "\n",
       "                                                    url  \n",
       "2996  http://bj.58.com/pinpaigongyu/26807340111802x....  \n",
       "2997  http://bj.58.com/pinpaigongyu/26652449700403x....  \n",
       "2998  http://bj.58.com/pinpaigongyu/26629210922300x....  "
      ]
     },
     "execution_count": 30,
     "metadata": {},
     "output_type": "execute_result"
    }
   ],
   "source": [
    "df[2996:2999]"
   ]
  },
  {
   "cell_type": "code",
   "execution_count": 31,
   "metadata": {},
   "outputs": [],
   "source": [
    "df['source'] = 0"
   ]
  },
  {
   "cell_type": "code",
   "execution_count": 32,
   "metadata": {},
   "outputs": [],
   "source": [
    "df.loc[0,'source'] = 'lj'"
   ]
  },
  {
   "cell_type": "code",
   "execution_count": 33,
   "metadata": {
    "scrolled": true
   },
   "outputs": [
    {
     "data": {
      "text/html": [
       "<div>\n",
       "<style scoped>\n",
       "    .dataframe tbody tr th:only-of-type {\n",
       "        vertical-align: middle;\n",
       "    }\n",
       "\n",
       "    .dataframe tbody tr th {\n",
       "        vertical-align: top;\n",
       "    }\n",
       "\n",
       "    .dataframe thead th {\n",
       "        text-align: right;\n",
       "    }\n",
       "</style>\n",
       "<table border=\"1\" class=\"dataframe\">\n",
       "  <thead>\n",
       "    <tr style=\"text-align: right;\">\n",
       "      <th></th>\n",
       "      <th>title</th>\n",
       "      <th>location</th>\n",
       "      <th>price</th>\n",
       "      <th>url</th>\n",
       "      <th>source</th>\n",
       "    </tr>\n",
       "  </thead>\n",
       "  <tbody>\n",
       "    <tr>\n",
       "      <th>0</th>\n",
       "      <td>木樨园 整租·南三环中路69号 1室1厅 南</td>\n",
       "      <td>南三环中路69号</td>\n",
       "      <td>4000</td>\n",
       "      <td>https://bj.lianjia.com/zufang/BJ23556994338301...</td>\n",
       "      <td>lj</td>\n",
       "    </tr>\n",
       "    <tr>\n",
       "      <th>1</th>\n",
       "      <td>芍药居 整租·芍药居北里 2室1厅 东</td>\n",
       "      <td>芍药居北里</td>\n",
       "      <td>6000</td>\n",
       "      <td>https://bj.lianjia.com/zufang/BJ23556927120463...</td>\n",
       "      <td>0</td>\n",
       "    </tr>\n",
       "    <tr>\n",
       "      <th>2</th>\n",
       "      <td>定慧寺 整租·恩济庄82号院 1室0厅 北</td>\n",
       "      <td>恩济庄82号院</td>\n",
       "      <td>3500</td>\n",
       "      <td>https://bj.lianjia.com/zufang/BJ23556403944457...</td>\n",
       "      <td>0</td>\n",
       "    </tr>\n",
       "    <tr>\n",
       "      <th>3</th>\n",
       "      <td>通州北苑 整租·长城国际 1室0厅 西</td>\n",
       "      <td>长城国际</td>\n",
       "      <td>3600</td>\n",
       "      <td>https://bj.lianjia.com/zufang/BJ23555436027274...</td>\n",
       "      <td>0</td>\n",
       "    </tr>\n",
       "    <tr>\n",
       "      <th>4</th>\n",
       "      <td>通州北苑 整租·长城国际 2室1厅 东</td>\n",
       "      <td>长城国际</td>\n",
       "      <td>3600</td>\n",
       "      <td>https://bj.lianjia.com/zufang/BJ23555381849953...</td>\n",
       "      <td>0</td>\n",
       "    </tr>\n",
       "    <tr>\n",
       "      <th>5</th>\n",
       "      <td>宋家庄 整租·横三条15号 1室1厅 南</td>\n",
       "      <td>横三条15号</td>\n",
       "      <td>3200</td>\n",
       "      <td>https://bj.lianjia.com/zufang/BJ23563991061480...</td>\n",
       "      <td>0</td>\n",
       "    </tr>\n",
       "  </tbody>\n",
       "</table>\n",
       "</div>"
      ],
      "text/plain": [
       "                            title  location  price  \\\n",
       "0  木樨园 整租·南三环中路69号 1室1厅 南          南三环中路69号   4000   \n",
       "1     芍药居 整租·芍药居北里 2室1厅 东             芍药居北里   6000   \n",
       "2   定慧寺 整租·恩济庄82号院 1室0厅 北           恩济庄82号院   3500   \n",
       "3     通州北苑 整租·长城国际 1室0厅 西              长城国际   3600   \n",
       "4     通州北苑 整租·长城国际 2室1厅 东              长城国际   3600   \n",
       "5    宋家庄 整租·横三条15号 1室1厅 南            横三条15号   3200   \n",
       "\n",
       "                                                 url source  \n",
       "0  https://bj.lianjia.com/zufang/BJ23556994338301...     lj  \n",
       "1  https://bj.lianjia.com/zufang/BJ23556927120463...      0  \n",
       "2  https://bj.lianjia.com/zufang/BJ23556403944457...      0  \n",
       "3  https://bj.lianjia.com/zufang/BJ23555436027274...      0  \n",
       "4  https://bj.lianjia.com/zufang/BJ23555381849953...      0  \n",
       "5  https://bj.lianjia.com/zufang/BJ23563991061480...      0  "
      ]
     },
     "execution_count": 33,
     "metadata": {},
     "output_type": "execute_result"
    }
   ],
   "source": [
    "df.loc[0:5]"
   ]
  },
  {
   "cell_type": "code",
   "execution_count": 36,
   "metadata": {},
   "outputs": [
    {
     "data": {
      "text/html": [
       "<div>\n",
       "<style scoped>\n",
       "    .dataframe tbody tr th:only-of-type {\n",
       "        vertical-align: middle;\n",
       "    }\n",
       "\n",
       "    .dataframe tbody tr th {\n",
       "        vertical-align: top;\n",
       "    }\n",
       "\n",
       "    .dataframe thead th {\n",
       "        text-align: right;\n",
       "    }\n",
       "</style>\n",
       "<table border=\"1\" class=\"dataframe\">\n",
       "  <thead>\n",
       "    <tr style=\"text-align: right;\">\n",
       "      <th></th>\n",
       "      <th>title</th>\n",
       "      <th>location</th>\n",
       "      <th>price</th>\n",
       "      <th>url</th>\n",
       "      <th>source</th>\n",
       "    </tr>\n",
       "  </thead>\n",
       "  <tbody>\n",
       "    <tr>\n",
       "      <th>2996</th>\n",
       "      <td>天通苑 天通苑东二区 5室 次卧朝南</td>\n",
       "      <td>天通苑东二区</td>\n",
       "      <td>2090</td>\n",
       "      <td>http://bj.58.com/pinpaigongyu/26807340111802x....</td>\n",
       "      <td>0</td>\n",
       "    </tr>\n",
       "    <tr>\n",
       "      <th>2997</th>\n",
       "      <td>花乡 德鑫家园 3室 主卧朝南</td>\n",
       "      <td>德鑫家园</td>\n",
       "      <td>2150</td>\n",
       "      <td>http://bj.58.com/pinpaigongyu/26652449700403x....</td>\n",
       "      <td>0</td>\n",
       "    </tr>\n",
       "  </tbody>\n",
       "</table>\n",
       "</div>"
      ],
      "text/plain": [
       "                   title location  price  \\\n",
       "2996  天通苑 天通苑东二区 5室 次卧朝南   天通苑东二区   2090   \n",
       "2997     花乡 德鑫家园 3室 主卧朝南     德鑫家园   2150   \n",
       "\n",
       "                                                    url source  \n",
       "2996  http://bj.58.com/pinpaigongyu/26807340111802x....      0  \n",
       "2997  http://bj.58.com/pinpaigongyu/26652449700403x....      0  "
      ]
     },
     "execution_count": 36,
     "metadata": {},
     "output_type": "execute_result"
    }
   ],
   "source": [
    "df.loc[2996:2997]"
   ]
  },
  {
   "cell_type": "code",
   "execution_count": 37,
   "metadata": {},
   "outputs": [
    {
     "data": {
      "text/plain": [
       "title                          木樨园 整租·南三环中路69号 1室1厅 南        \n",
       "location                                             南三环中路69号\n",
       "price                                                    4000\n",
       "url         https://bj.lianjia.com/zufang/BJ23556994338301...\n",
       "source                                                     lj\n",
       "Name: 0, dtype: object"
      ]
     },
     "execution_count": 37,
     "metadata": {},
     "output_type": "execute_result"
    }
   ],
   "source": [
    "df.loc[0]"
   ]
  },
  {
   "cell_type": "code",
   "execution_count": 42,
   "metadata": {},
   "outputs": [],
   "source": [
    "for i in range(0,2996):\n",
    "    df.loc[i,'source'] = 'lj'"
   ]
  },
  {
   "cell_type": "code",
   "execution_count": 43,
   "metadata": {},
   "outputs": [
    {
     "data": {
      "text/html": [
       "<div>\n",
       "<style scoped>\n",
       "    .dataframe tbody tr th:only-of-type {\n",
       "        vertical-align: middle;\n",
       "    }\n",
       "\n",
       "    .dataframe tbody tr th {\n",
       "        vertical-align: top;\n",
       "    }\n",
       "\n",
       "    .dataframe thead th {\n",
       "        text-align: right;\n",
       "    }\n",
       "</style>\n",
       "<table border=\"1\" class=\"dataframe\">\n",
       "  <thead>\n",
       "    <tr style=\"text-align: right;\">\n",
       "      <th></th>\n",
       "      <th>title</th>\n",
       "      <th>location</th>\n",
       "      <th>price</th>\n",
       "      <th>url</th>\n",
       "      <th>source</th>\n",
       "    </tr>\n",
       "  </thead>\n",
       "  <tbody>\n",
       "    <tr>\n",
       "      <th>2996</th>\n",
       "      <td>天通苑 天通苑东二区 5室 次卧朝南</td>\n",
       "      <td>天通苑东二区</td>\n",
       "      <td>2090</td>\n",
       "      <td>http://bj.58.com/pinpaigongyu/26807340111802x....</td>\n",
       "      <td>lj</td>\n",
       "    </tr>\n",
       "    <tr>\n",
       "      <th>2997</th>\n",
       "      <td>花乡 德鑫家园 3室 主卧朝南</td>\n",
       "      <td>德鑫家园</td>\n",
       "      <td>2150</td>\n",
       "      <td>http://bj.58.com/pinpaigongyu/26652449700403x....</td>\n",
       "      <td>0</td>\n",
       "    </tr>\n",
       "    <tr>\n",
       "      <th>2998</th>\n",
       "      <td>望京 望京新城 4室 主卧朝南</td>\n",
       "      <td>望京新城</td>\n",
       "      <td>3190</td>\n",
       "      <td>http://bj.58.com/pinpaigongyu/26629210922300x....</td>\n",
       "      <td>0</td>\n",
       "    </tr>\n",
       "  </tbody>\n",
       "</table>\n",
       "</div>"
      ],
      "text/plain": [
       "                   title location  price  \\\n",
       "2996  天通苑 天通苑东二区 5室 次卧朝南   天通苑东二区   2090   \n",
       "2997     花乡 德鑫家园 3室 主卧朝南     德鑫家园   2150   \n",
       "2998     望京 望京新城 4室 主卧朝南     望京新城   3190   \n",
       "\n",
       "                                                    url source  \n",
       "2996  http://bj.58.com/pinpaigongyu/26807340111802x....     lj  \n",
       "2997  http://bj.58.com/pinpaigongyu/26652449700403x....      0  \n",
       "2998  http://bj.58.com/pinpaigongyu/26629210922300x....      0  "
      ]
     },
     "execution_count": 43,
     "metadata": {},
     "output_type": "execute_result"
    }
   ],
   "source": [
    "df.loc[2996:2998]"
   ]
  },
  {
   "cell_type": "code",
   "execution_count": 44,
   "metadata": {},
   "outputs": [],
   "source": [
    "for j in range(2996,len(df)):\n",
    "    df.loc[j,'source'] = '58'"
   ]
  },
  {
   "cell_type": "code",
   "execution_count": 45,
   "metadata": {},
   "outputs": [
    {
     "data": {
      "text/html": [
       "<div>\n",
       "<style scoped>\n",
       "    .dataframe tbody tr th:only-of-type {\n",
       "        vertical-align: middle;\n",
       "    }\n",
       "\n",
       "    .dataframe tbody tr th {\n",
       "        vertical-align: top;\n",
       "    }\n",
       "\n",
       "    .dataframe thead th {\n",
       "        text-align: right;\n",
       "    }\n",
       "</style>\n",
       "<table border=\"1\" class=\"dataframe\">\n",
       "  <thead>\n",
       "    <tr style=\"text-align: right;\">\n",
       "      <th></th>\n",
       "      <th>title</th>\n",
       "      <th>location</th>\n",
       "      <th>price</th>\n",
       "      <th>url</th>\n",
       "      <th>source</th>\n",
       "    </tr>\n",
       "  </thead>\n",
       "  <tbody>\n",
       "    <tr>\n",
       "      <th>2996</th>\n",
       "      <td>天通苑 天通苑东二区 5室 次卧朝南</td>\n",
       "      <td>天通苑东二区</td>\n",
       "      <td>2090</td>\n",
       "      <td>http://bj.58.com/pinpaigongyu/26807340111802x....</td>\n",
       "      <td>58</td>\n",
       "    </tr>\n",
       "    <tr>\n",
       "      <th>2997</th>\n",
       "      <td>花乡 德鑫家园 3室 主卧朝南</td>\n",
       "      <td>德鑫家园</td>\n",
       "      <td>2150</td>\n",
       "      <td>http://bj.58.com/pinpaigongyu/26652449700403x....</td>\n",
       "      <td>58</td>\n",
       "    </tr>\n",
       "    <tr>\n",
       "      <th>2998</th>\n",
       "      <td>望京 望京新城 4室 主卧朝南</td>\n",
       "      <td>望京新城</td>\n",
       "      <td>3190</td>\n",
       "      <td>http://bj.58.com/pinpaigongyu/26629210922300x....</td>\n",
       "      <td>58</td>\n",
       "    </tr>\n",
       "  </tbody>\n",
       "</table>\n",
       "</div>"
      ],
      "text/plain": [
       "                   title location  price  \\\n",
       "2996  天通苑 天通苑东二区 5室 次卧朝南   天通苑东二区   2090   \n",
       "2997     花乡 德鑫家园 3室 主卧朝南     德鑫家园   2150   \n",
       "2998     望京 望京新城 4室 主卧朝南     望京新城   3190   \n",
       "\n",
       "                                                    url source  \n",
       "2996  http://bj.58.com/pinpaigongyu/26807340111802x....     58  \n",
       "2997  http://bj.58.com/pinpaigongyu/26652449700403x....     58  \n",
       "2998  http://bj.58.com/pinpaigongyu/26629210922300x....     58  "
      ]
     },
     "execution_count": 45,
     "metadata": {},
     "output_type": "execute_result"
    }
   ],
   "source": [
    "df.loc[2996:2998]"
   ]
  },
  {
   "cell_type": "code",
   "execution_count": 50,
   "metadata": {},
   "outputs": [],
   "source": [
    "df.to_csv('rent_source.csv',index = 0)"
   ]
  }
 ],
 "metadata": {
  "kernelspec": {
   "display_name": "Python 3",
   "language": "python",
   "name": "python3"
  },
  "language_info": {
   "codemirror_mode": {
    "name": "ipython",
    "version": 3
   },
   "file_extension": ".py",
   "mimetype": "text/x-python",
   "name": "python",
   "nbconvert_exporter": "python",
   "pygments_lexer": "ipython3",
   "version": "3.7.3"
  },
  "toc": {
   "base_numbering": 1,
   "nav_menu": {},
   "number_sections": true,
   "sideBar": true,
   "skip_h1_title": false,
   "title_cell": "Table of Contents",
   "title_sidebar": "Contents",
   "toc_cell": false,
   "toc_position": {},
   "toc_section_display": true,
   "toc_window_display": false
  }
 },
 "nbformat": 4,
 "nbformat_minor": 2
}
